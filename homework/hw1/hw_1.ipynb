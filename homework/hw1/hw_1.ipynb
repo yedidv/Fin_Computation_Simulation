{
 "cells": [
  {
   "cell_type": "code",
   "execution_count": null,
   "id": "bacterial-cursor",
   "metadata": {
    "ExecuteTime": {
     "start_time": "2021-02-01T01:17:36.372Z"
    }
   },
   "outputs": [],
   "source": [
    "## Bring in the required libraries\n",
    "library(tidyverse)\n",
    "library(reshape2) \n",
    "library(cowplot) "
   ]
  },
  {
   "cell_type": "markdown",
   "id": "academic-mortgage",
   "metadata": {},
   "source": [
    "#  ***Question 1:***\n",
    "\n",
    "Find the value of one year european call and put options on a stock\n",
    "currently trading for \\\\$50 with a strike price of $50. \n",
    "With a risk free rate of 5% and the underlying stock volatility of 40% \n"
   ]
  },
  {
   "cell_type": "markdown",
   "id": "confident-headset",
   "metadata": {
    "ExecuteTime": {
     "end_time": "2021-01-31T23:28:58.448888Z",
     "start_time": "2021-01-31T23:28:58.427Z"
    }
   },
   "source": [
    "## Start by defining the terms\n",
    "\n",
    "*s_0*  is the current stock price. \n",
    "*****************************************\n",
    "\n",
    "*k* is the Current strike price. \n",
    "*****************************************\n",
    "*r* is the Risk Free Rate. \n",
    "*****************************************\n",
    "*sigma* is the volatility of underlying equity. \n",
    "*****************************************\n",
    "*time* is the Time to maturity (in days). "
   ]
  },
  {
   "cell_type": "code",
   "execution_count": null,
   "id": "distinct-active",
   "metadata": {
    "ExecuteTime": {
     "start_time": "2021-02-01T01:17:37.445Z"
    }
   },
   "outputs": [],
   "source": [
    "D_1 <- function(s_0, k, r, sigma, time){\n",
    "    \n",
    "    ## Function to find d_1\n",
    "    \n",
    "    # Breaking the formula up into smaller parts \n",
    "    a <- log(s_0 / k) \n",
    "    b <- time * (r + ((sigma ^2 ) / 2))\n",
    "    c <- sigma * sqrt(time) \n",
    "    \n",
    "    #Put the parts of the equation together \n",
    "    d_1 <- (a + b) / (c) \n",
    "    return(d_1) \n",
    "}\n",
    "\n",
    "d_1 <- D_1(s_0 = 50, k = 50, r = 0.05, sigma = 0.4, time = 1) \n",
    "paste0('The value of d_1 is: ',d_1) "
   ]
  },
  {
   "cell_type": "code",
   "execution_count": null,
   "id": "royal-marina",
   "metadata": {
    "ExecuteTime": {
     "start_time": "2021-02-01T01:17:37.580Z"
    }
   },
   "outputs": [],
   "source": [
    "D_2 <- function(s_0, k, r, sigma, time){\n",
    "    \n",
    "    ## Function to find d_2 \n",
    "    \n",
    "    # Breaking up the formula up into smaller parts \n",
    "    a <- log(s_0 / k) \n",
    "    b <- time * (r - ((sigma ^2 ) / 2)) \n",
    "    c <- sigma * sqrt(time) \n",
    "    \n",
    "    # Put the parts of the equation together \n",
    "    d_2 <- (a + b) / (c) \n",
    "    return(d_2) \n",
    "}\n",
    "\n",
    "d_2 <- D_2(s_0 = 50, k = 50, r = 0.05, sigma = 0.4, time = 1)\n",
    "paste0('The value of d_2 is: ',d_2) "
   ]
  },
  {
   "cell_type": "code",
   "execution_count": null,
   "id": "deadly-consultation",
   "metadata": {
    "ExecuteTime": {
     "start_time": "2021-02-01T01:17:37.731Z"
    }
   },
   "outputs": [],
   "source": [
    "Call_Option <- function(k, s_0, d_1, r, time, d_2){\n",
    "    \n",
    "    ## Calculate the value of the call option \n",
    "    \n",
    "    ## Breaking up the formula into smaller parts \n",
    "    a <- s_0 * pnorm(d_1)\n",
    "    b <- k * exp(-r * time) * pnorm(d_2)\n",
    "    c <- a - b\n",
    "    return(c)     \n",
    "}\n",
    "\n",
    "call_option <- Call_Option(k = 50, s_0 = 50, d_1 = d_1, r = 0.05, time = 1, d_2 = d_2)\n",
    "paste0('The value of the call option is: ', call_option) "
   ]
  },
  {
   "cell_type": "code",
   "execution_count": null,
   "id": "wound-integer",
   "metadata": {
    "ExecuteTime": {
     "start_time": "2021-02-01T01:17:37.881Z"
    }
   },
   "outputs": [],
   "source": [
    "Put_Option <- function(k, s_0, d_1, r, time, d_2){\n",
    "    \n",
    "    ## Calculate the value of the put option \n",
    "    \n",
    "    ## Breaking up the formula into smaller parts \n",
    "    a <- s_0 * pnorm(-d_1) \n",
    "    b <- k * exp(-r * time) * pnorm(-d_2) \n",
    "    return( -a + b) \n",
    "}\n",
    "\n",
    "put_option <- Put_Option(k = 50, s_0 = 50, d_1 = d_1, r = 0.05, time = 1, d_2 = d_2) \n",
    "paste0('The value of the put option is: ', put_option)  "
   ]
  },
  {
   "cell_type": "markdown",
   "id": "raising-answer",
   "metadata": {},
   "source": [
    "# ***Question 2:*** \n",
    "\n",
    "Create a single function that can calculate the value of the call and put options. \n",
    "Output in a single variable"
   ]
  },
  {
   "cell_type": "code",
   "execution_count": null,
   "id": "unknown-money",
   "metadata": {
    "ExecuteTime": {
     "start_time": "2021-02-01T01:17:38.172Z"
    }
   },
   "outputs": [],
   "source": [
    "Black_Scholes_Merton <- function(k, s_0, r, time, sigma){\n",
    "    ### Use the previously created functions to create the Black Scholes Model\n",
    "    \n",
    "    ## Find the values for d_1 and d_2 \n",
    "    d_1 <- D_1(s_0, k, r, sigma, time)\n",
    "    d_2 <- D_2(s_0, k, r, sigma, time)\n",
    "    \n",
    "    ## Find the values for the call and put options \n",
    "    c <- Call_Option(k, s_0, d_1, r, time, d_2) \n",
    "    p <- Put_Option(k, s_0, d_1, r, time, d_2) \n",
    "    \n",
    "    ## Return the call and put option values as a list \n",
    "    return(list('call' = c, \n",
    "               'put' = p))\n",
    "}\n",
    "\n",
    "## Use the Black Scholes Merton formula \n",
    "q_2 <- Black_Scholes_Merton(k = 50, s_0 = 50, r = 0.05, time = 1, sigma = 0.4)\n",
    "\n",
    "paste0('The price of the call option is: ', q_2$call) \n",
    "paste0('The price of the put option is: ', q_2$put) "
   ]
  },
  {
   "cell_type": "markdown",
   "id": "numeric-volleyball",
   "metadata": {},
   "source": [
    "# ***Question 3:***\n",
    "\n",
    "Compute the value of the options for various strike prices ranging from \n",
    "40 to 60 in \\\\$0.10 increments"
   ]
  },
  {
   "cell_type": "code",
   "execution_count": null,
   "id": "rising-clinic",
   "metadata": {
    "ExecuteTime": {
     "start_time": "2021-02-01T01:17:38.463Z"
    }
   },
   "outputs": [],
   "source": [
    "### Start by defining the terms\n",
    "s_0 <- 50 ## current stock price \n",
    "r <- 0.05 ## Risk Free Rate \n",
    "sigma <- 0.4 ## volatility of underlying equity \n",
    "time <- 1 ## Time to maturity (in days) "
   ]
  },
  {
   "cell_type": "code",
   "execution_count": null,
   "id": "loaded-vintage",
   "metadata": {
    "ExecuteTime": {
     "start_time": "2021-02-01T01:17:38.622Z"
    }
   },
   "outputs": [],
   "source": [
    "## Create a dataframe with K = the sequence of the strike price \n",
    "q_3 <- tibble('K' = seq(40, 60, 0.1))\n",
    "\n",
    "## Add the call and put options to the dataframe \n",
    "q_3$Call <- Black_Scholes_Merton(q_3$K, \n",
    "                           s_0, r, time, sigma)$call\n",
    "q_3$Put <- Black_Scholes_Merton(q_3$K, \n",
    "                           s_0, r, time, sigma)$put\n",
    "\n",
    "head(q_3, 5)  "
   ]
  },
  {
   "cell_type": "markdown",
   "id": "distinguished-cancer",
   "metadata": {
    "ExecuteTime": {
     "end_time": "2021-01-31T23:03:33.030183Z",
     "start_time": "2021-01-31T23:03:32.982Z"
    }
   },
   "source": [
    "# ***Question 4:***\n",
    "Call the function recursively in a for loop and save in a dataframe \n",
    "for the same range for the strike price \n"
   ]
  },
  {
   "cell_type": "code",
   "execution_count": null,
   "id": "dangerous-hammer",
   "metadata": {
    "ExecuteTime": {
     "start_time": "2021-02-01T01:17:38.940Z"
    }
   },
   "outputs": [],
   "source": [
    "\n",
    "\n",
    "For_Loop_Black_Scholes <- function(s_0, r, time, sigma){\n",
    "    ## Create a dataframe that has the K value, the Call option value, \n",
    "    ## and the Put option value\n",
    "    \n",
    "    df <- tibble(K = numeric(), \n",
    "              Call = numeric(), \n",
    "              Put = numeric())\n",
    "    \n",
    "    for (i in seq(40, 60, 0.1)){\n",
    "        ## Recursively go through the strike price sequence \n",
    "        ## and find the call and put option values \n",
    "    \n",
    "        ## Add row using tidyverse for both the call and the put options. \n",
    "        df <- df %>% add_row(K = i, \n",
    "                              Call = Black_Scholes_Merton(i, s_0, \n",
    "                                                         r, time, sigma)$call, \n",
    "                               Put = Black_Scholes_Merton(i, s_0, \n",
    "                                                         r, time, sigma)$put)\n",
    "        \n",
    "    }\n",
    "     return(df)\n",
    "\n",
    "}\n",
    "\n",
    "q_4 <- For_Loop_Black_Scholes(s_0 = 50, \n",
    "                             r = 0.05, time = 1, sigma = 0.4) \n",
    "head(q_4) "
   ]
  },
  {
   "cell_type": "markdown",
   "id": "circular-attitude",
   "metadata": {},
   "source": [
    "# ***Question 5:*** \n",
    "\n",
    "Repeat the function from question 4 but use the apply function"
   ]
  },
  {
   "cell_type": "code",
   "execution_count": null,
   "id": "cordless-italy",
   "metadata": {
    "ExecuteTime": {
     "start_time": "2021-02-01T01:17:39.238Z"
    }
   },
   "outputs": [],
   "source": [
    "q_5 <- tibble(K = seq(40, 60, 0.1) ) \n",
    "\n",
    "Black_Scholes_Merton_Call <- function(x){\n",
    "    ## Find the call option value using the apply function\n",
    "    return(Black_Scholes_Merton(k = x, s_0, r, time, sigma)$call)\n",
    "}\n",
    "\n",
    "Black_Scholes_Merton_Put <- function(x){\n",
    "    ## Find the put option value using the apply function\n",
    "    return(Black_Scholes_Merton(k = x, s_0, r, time, sigma)$put) \n",
    "}\n",
    "q_5$Call <- sapply(q_5$K,Black_Scholes_Merton_Call)\n",
    "q_5$Put <- sapply(q_5$K, Black_Scholes_Merton_Put)\n",
    "\n",
    "head(q_5)"
   ]
  },
  {
   "cell_type": "markdown",
   "id": "falling-permit",
   "metadata": {},
   "source": [
    "# ***Question 6:*** \n",
    "Check to ensure the following relation between the put \n",
    "and the call options holds: (The put-call parity) \n"
   ]
  },
  {
   "cell_type": "code",
   "execution_count": null,
   "id": "blocked-politics",
   "metadata": {
    "ExecuteTime": {
     "start_time": "2021-02-01T01:17:39.608Z"
    }
   },
   "outputs": [],
   "source": [
    "Relation <- function(df, r, time, s_0) {\n",
    "    ## Function to find put and call option parity\n",
    "    \n",
    "    df$Left_Relation <- df$Call + df$K * exp(-r * T) \n",
    "    df$Right_Relation <- df$Put + s_0 \n",
    "    return(df) \n",
    "}\n",
    "\n",
    "## Use the relation formula to find the values for the left and the right side of the \n",
    "## put-call parity formula\n",
    "q_3_relation <- Relation(q_3, r = 0.05, time = 1, s_0 = 50)  \n",
    "q_4_relation <- Relation(q_4, r = 0.05, time = 1, s_0 = 50) \n",
    "q_5_relation <- Relation(q_5, r = 0.05, time = 1, s_0 = 50) "
   ]
  },
  {
   "cell_type": "code",
   "execution_count": null,
   "id": "jewish-russell",
   "metadata": {
    "ExecuteTime": {
     "start_time": "2021-02-01T01:17:39.775Z"
    }
   },
   "outputs": [],
   "source": [
    "Plot_Put_Call_Options <- function(df){\n",
    "    ## Create a plot for the put and call Option values vs Strike Price\n",
    "    \n",
    "    ggplot(data = melt(df, id.var = 'K'), \n",
    "          aes(x = K, y = value, col = variable)) + \n",
    "        geom_line() + \n",
    "        labs(x = 'Strike Price K ($)', y = 'Option Value ($)', \n",
    "            colour = 'Variables', title = 'Strike Prices vs Option Prices') \n",
    "}\n",
    "\n",
    "Plot_Put_Call_Parity <- function(df){\n",
    "    ## Create plots for the put and call parity\n",
    "    ## To see that the relation holds \n",
    "    \n",
    "    ggplot(data = df, aes(x = Left_Relation, y = Right_Relation)) +\n",
    "        geom_line() + \n",
    "        labs(x = 'Put Call Left Side', y = 'Put Call Right Side', \n",
    "             title = 'Put Call Parity') \n",
    "}"
   ]
  },
  {
   "cell_type": "markdown",
   "id": "educated-keeping",
   "metadata": {},
   "source": [
    "Once we have the values for the option prices (put and call) as well as the values for the right and the left hand sides of the put-call parity equation, we can then plot these. \n",
    "\n",
    "We are looking at the put-call parity relation to see whether or not the relation is held"
   ]
  },
  {
   "cell_type": "code",
   "execution_count": null,
   "id": "incorporate-nevada",
   "metadata": {
    "ExecuteTime": {
     "start_time": "2021-02-01T01:17:40.101Z"
    }
   },
   "outputs": [],
   "source": [
    "overall_title <- ggdraw() + \n",
    "    draw_label('Put Call Graphs- Option Value on Left Side, Parity Relation on Right')\n",
    "\n",
    "\n",
    "q_3_plot <- plot_grid(Plot_Put_Call_Options(q_3), \n",
    "         Plot_Put_Call_Parity(q_3_relation))\n",
    "\n",
    "q_4_plot <- plot_grid(Plot_Put_Call_Options(q_4), \n",
    "          Plot_Put_Call_Parity(q_4_relation))\n",
    "\n",
    "q_5_plot <- plot_grid(Plot_Put_Call_Options(q_5), \n",
    "          Plot_Put_Call_Parity(q_5_relation))\n",
    "\n",
    "plot_grid(overall_title, q_3_plot, q_4_plot, q_5_plot, ncol = 1, \n",
    "         labels = c('', 'Q_3', 'Q_4', 'Q_5'), label_size = 10)"
   ]
  },
  {
   "cell_type": "markdown",
   "id": "disturbed-profit",
   "metadata": {},
   "source": [
    "As we can see in the graphs above, the relationship for the put-call parity holds\n",
    "(comparing the left hand side of the equation with the right hand side of the equation)."
   ]
  },
  {
   "cell_type": "code",
   "execution_count": null,
   "id": "million-monaco",
   "metadata": {},
   "outputs": [],
   "source": []
  }
 ],
 "metadata": {
  "hide_input": false,
  "kernelspec": {
   "display_name": "R",
   "language": "R",
   "name": "ir"
  },
  "language_info": {
   "codemirror_mode": "r",
   "file_extension": ".r",
   "mimetype": "text/x-r-source",
   "name": "R",
   "pygments_lexer": "r",
   "version": "3.6.1"
  },
  "toc": {
   "base_numbering": 1,
   "nav_menu": {},
   "number_sections": true,
   "sideBar": true,
   "skip_h1_title": false,
   "title_cell": "Table of Contents",
   "title_sidebar": "Contents",
   "toc_cell": false,
   "toc_position": {},
   "toc_section_display": true,
   "toc_window_display": false
  }
 },
 "nbformat": 4,
 "nbformat_minor": 5
}
