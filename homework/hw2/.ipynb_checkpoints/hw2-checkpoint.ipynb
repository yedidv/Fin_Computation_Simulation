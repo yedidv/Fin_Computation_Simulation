{
 "cells": [
  {
   "cell_type": "markdown",
   "id": "special-pointer",
   "metadata": {
    "toc": true
   },
   "source": [
    "<h1>Table of Contents<span class=\"tocSkip\"></span></h1>\n",
    "<div class=\"toc\"><ul class=\"toc-item\"><li><span><a href=\"#Question-1:\" data-toc-modified-id=\"Question-1:-1\"><span class=\"toc-item-num\">1&nbsp;&nbsp;</span><strong><em>Question 1:</em></strong></a></span><ul class=\"toc-item\"><li><span><a href=\"#Int2Dec(n)\" data-toc-modified-id=\"Int2Dec(n)-1.1\"><span class=\"toc-item-num\">1.1&nbsp;&nbsp;</span><strong><em>Int2Dec(n)</em></strong></a></span></li><li><span><a href=\"#Frac2Dec(n)\" data-toc-modified-id=\"Frac2Dec(n)-1.2\"><span class=\"toc-item-num\">1.2&nbsp;&nbsp;</span>Frac2Dec(n)</a></span></li><li><span><a href=\"#Num2Dec(n)\" data-toc-modified-id=\"Num2Dec(n)-1.3\"><span class=\"toc-item-num\">1.3&nbsp;&nbsp;</span>Num2Dec(n)</a></span></li></ul></li><li><span><a href=\"#Question-2\" data-toc-modified-id=\"Question-2-2\"><span class=\"toc-item-num\">2&nbsp;&nbsp;</span><strong><em>Question 2</em></strong></a></span><ul class=\"toc-item\"><li><span><a href=\"#NativeR(A,-b)\" data-toc-modified-id=\"NativeR(A,-b)-2.1\"><span class=\"toc-item-num\">2.1&nbsp;&nbsp;</span>NativeR(A, b)</a></span></li><li><span><a href=\"#LU-Factorization\" data-toc-modified-id=\"LU-Factorization-2.2\"><span class=\"toc-item-num\">2.2&nbsp;&nbsp;</span>LU Factorization</a></span></li></ul></li><li><span><a href=\"#Question-3\" data-toc-modified-id=\"Question-3-3\"><span class=\"toc-item-num\">3&nbsp;&nbsp;</span><strong><em>Question 3</em></strong></a></span></li><li><span><a href=\"#Question-4\" data-toc-modified-id=\"Question-4-4\"><span class=\"toc-item-num\">4&nbsp;&nbsp;</span><strong><em>Question 4</em></strong></a></span></li></ul></div>"
   ]
  },
  {
   "cell_type": "code",
   "execution_count": null,
   "id": "raised-blank",
   "metadata": {
    "ExecuteTime": {
     "end_time": "2021-02-11T03:01:28.138466Z",
     "start_time": "2021-02-11T03:01:26.666Z"
    }
   },
   "outputs": [],
   "source": [
    "### Install required packages \n",
    "library(Matrix) \n",
    "library(tidyverse) "
   ]
  },
  {
   "cell_type": "markdown",
   "id": "pending-consumption",
   "metadata": {},
   "source": [
    "## ***Question 1:*** \n",
    "\n",
    "Write a function in R to convert a decimal (base 10) to binary number.  Please extend the code we started in class to handle fractional numbers (e.g., 200.65). \n",
    "****\n",
    "*Extend the code to handle fractional numbers* "
   ]
  },
  {
   "cell_type": "markdown",
   "id": "processed-effects",
   "metadata": {},
   "source": [
    "### ***Int2Dec(n)***\n",
    "\n",
    "Start by writing a function that converts integers \n",
    "to binary "
   ]
  },
  {
   "cell_type": "code",
   "execution_count": null,
   "id": "several-prayer",
   "metadata": {
    "ExecuteTime": {
     "end_time": "2021-02-11T03:01:28.160084Z",
     "start_time": "2021-02-11T03:01:26.840Z"
    }
   },
   "outputs": [],
   "source": [
    "## for integer \n",
    "\n",
    "Int2Dec <- function(n) {\n",
    "    \n",
    "    n <- floor(n) ## Make sure it's just an integer\n",
    "    \n",
    "    ## Start by defining an empty matrix \n",
    "    b <- c() \n",
    "    while(n > 0){\n",
    "        ## Define a while loop \n",
    "        ## divide n / 2 and take the remainder\n",
    "        ## Append the remainder into matrix\n",
    "        ## until the value of n = 0 \n",
    "        \n",
    "        \n",
    "        n_rem <-  n %% 2  ## Take the remainder\n",
    "        n <- floor(n / 2 ) ## Divide by 2 and take only the int part\n",
    "        \n",
    "        b <- append(b, n_rem) ## append the remainder \n",
    "    }\n",
    "    \n",
    "    ## Reverse the order of the matrix for it \n",
    "    ## to become a binary number \n",
    "    b <- rev(b) \n",
    "    b <- paste(b, collapse = '') \n",
    "    return(b) \n",
    "}\n",
    "\n",
    "print(Int2Dec(28) ) "
   ]
  },
  {
   "cell_type": "markdown",
   "id": "grave-moore",
   "metadata": {
    "ExecuteTime": {
     "end_time": "2021-02-10T18:50:35.450427Z",
     "start_time": "2021-02-10T18:50:35.427Z"
    }
   },
   "source": [
    "### Frac2Dec(n)\n",
    "\n",
    "Create a function that takes the fractional part and converts to binary"
   ]
  },
  {
   "cell_type": "code",
   "execution_count": null,
   "id": "transsexual-design",
   "metadata": {
    "ExecuteTime": {
     "end_time": "2021-02-11T03:01:28.181743Z",
     "start_time": "2021-02-11T03:01:26.935Z"
    }
   },
   "outputs": [],
   "source": [
    "\n",
    "\n",
    "Frac2Dec <- function(n){\n",
    "    ## Make sure we are only taking the\n",
    "    ## binary of the decimal\n",
    "    n <- n - floor(n) \n",
    "    b <- c() \n",
    "    while(n > 0){\n",
    "        n = n * 2  ## Multiply number by 2 \n",
    "        n_int <- floor(n) ## extract the integer part of the number\n",
    "        n <- n - n_int ## extract the decimal part of the number\n",
    "        b <- append(b, n_int) \n",
    "        b <- paste(b, collapse = '') \n",
    "    }\n",
    "    return(b) \n",
    "}\n",
    "\n",
    "Frac2Dec(0.23)"
   ]
  },
  {
   "cell_type": "markdown",
   "id": "unsigned-melissa",
   "metadata": {},
   "source": [
    "### Num2Dec(n)\n",
    "\n",
    "Combine the integer binary and decimal binary together to create one full binary number "
   ]
  },
  {
   "cell_type": "code",
   "execution_count": null,
   "id": "collaborative-female",
   "metadata": {
    "ExecuteTime": {
     "end_time": "2021-02-11T03:01:28.198411Z",
     "start_time": "2021-02-11T03:01:27.031Z"
    }
   },
   "outputs": [],
   "source": [
    "Num2Dec <- function(n){\n",
    "    int_n <- Int2Dec(n) ## Integer of n \n",
    "    frac_n <- Frac2Dec(n) ## Fraction of n \n",
    "    \n",
    "    ## Put the int and frac in one vector \n",
    "    num <- c(int_n,'.', frac_n)\n",
    "    \n",
    "    ## Combine them together as a single number \n",
    "    num <- (paste(num, collapse = ''))  \n",
    "   \n",
    "    \n",
    "    return(num) \n",
    "    \n",
    "}\n",
    "a <- Num2Dec(28.23) \n",
    "print(a) \n"
   ]
  },
  {
   "cell_type": "markdown",
   "id": "aerial-controversy",
   "metadata": {},
   "source": [
    "## ***Question 2*** \n",
    "\n",
    "Using R, confirm that the LU factorization out-performs R’s Gaussian elimination (x = A\\b) procedure in terms of speed for the following system of equations:\n",
    "\n",
    "[4 2 3; 5 -8 1; 4 7 -9]\n",
    "\n",
    "[1 4 0]"
   ]
  },
  {
   "cell_type": "code",
   "execution_count": null,
   "id": "transparent-saturday",
   "metadata": {
    "ExecuteTime": {
     "end_time": "2021-02-11T03:02:32.288976Z",
     "start_time": "2021-02-11T03:02:30.924Z"
    }
   },
   "outputs": [],
   "source": [
    "library(Matrix) \n",
    "library(tidyverse) \n",
    "A <- matrix(c(4, 2, 3, 5, -8, 1, 4, 7, -9), \n",
    "           byrow = T, ncol = 3) \n",
    "b <- matrix(c(1, 4, 0), byrow = F, ncol = 1)\n",
    "\n",
    "\n",
    "lu_time <- c() \n",
    "LU <- expand(lu(A)) \n",
    "L <- as.matrix(LU$L) \n",
    "U <- as.matrix(LU$U) \n",
    "P <- as.matrix(LU$P) \n",
    "n <- seq(1:100) \n",
    "\n",
    "for (n in n){\n",
    "    t0 <- proc.time()\n",
    "\n",
    "\n",
    "    for(n in n){\n",
    "        xLU <- solve(U, solve(L, solve(P, b))) \n",
    "    }\n",
    "\n",
    "    t1 <- proc.time() - t0 \n",
    "\n",
    "    lu_time <- append(lu_time, t1[3])\n",
    "\n",
    "}\n",
    "\n",
    "lu_time\n"
   ]
  },
  {
   "cell_type": "markdown",
   "id": "immediate-immigration",
   "metadata": {},
   "source": [
    "### NativeR(A, b)"
   ]
  },
  {
   "cell_type": "code",
   "execution_count": null,
   "id": "experimental-revolution",
   "metadata": {
    "ExecuteTime": {
     "end_time": "2021-02-11T03:01:28.224584Z",
     "start_time": "2021-02-11T03:01:27.172Z"
    }
   },
   "outputs": [],
   "source": [
    "n <- seq(1:500) \n",
    "\n",
    "native_time <- c() \n",
    "\n",
    "for(n in n){\n",
    "    \n",
    "    t0 <- proc.time()\n",
    "    for (i in 1:n) {\n",
    "    solve(A, b)\n",
    "    }\n",
    "    t1 <- proc.time() - t0\n",
    "    \n",
    "    native_time <- append(native_time, t1[3]) \n",
    "    \n",
    "\n",
    "    \n",
    "}\n",
    "\n",
    "timeit <- tibble(iterations = n, \n",
    "       native_time = native_time)  \n",
    "\n"
   ]
  },
  {
   "cell_type": "markdown",
   "id": "every-youth",
   "metadata": {},
   "source": [
    "### LU Factorization"
   ]
  },
  {
   "cell_type": "code",
   "execution_count": null,
   "id": "looking-lounge",
   "metadata": {
    "ExecuteTime": {
     "end_time": "2021-02-11T01:50:36.308302Z",
     "start_time": "2021-02-11T01:48:49.477Z"
    }
   },
   "outputs": [],
   "source": []
  },
  {
   "cell_type": "markdown",
   "id": "russian-elements",
   "metadata": {},
   "source": [
    "## ***Question 3*** \n",
    "\n",
    "A1 = [3 1 1 0; 1 5 -1 2; 1 0 3 1; 0 1 1 4];\n",
    "\n",
    "A2 = [2.5 1 1 0; 1 4.1 -1 2; 1 0 2.1 1; 0 1 1 2.1];\n",
    "\n",
    "A3 = [2 1 1 0; 1 3.5 -1 2; 1 0 2.1 1; 0 1 1 2.1];\n",
    "\n",
    "b1 = b2 = b3 = [1 4 -2 1]; "
   ]
  },
  {
   "cell_type": "code",
   "execution_count": 2,
   "id": "israeli-transition",
   "metadata": {
    "ExecuteTime": {
     "end_time": "2021-02-11T03:51:12.273910Z",
     "start_time": "2021-02-11T03:51:11.656Z"
    }
   },
   "outputs": [],
   "source": [
    "library(Matrix) \n",
    "A_1 <- matrix(c(3, 1, 1, 0, \n",
    "             1, 5, -1, 2, \n",
    "             1, 0, 3, 1, \n",
    "             0, 1, 1, 4), \n",
    "             byrow = T, \n",
    "             ncol = 4)  \n",
    "\n",
    "A_2 <- matrix(c(2.5, 1, 1, 0, \n",
    "               1, 4.1, -1, 2, \n",
    "               1, 0, 2.1, 1, \n",
    "               0, 1, 1, 2.1), byrow = T, ncol = 4) \n",
    "\n",
    "A_3 <- matrix(c(2, 1, 1, 0, \n",
    "               1, 3.5, -1, 2, \n",
    "               1, 0, 2.1, 1, \n",
    "               0, 1, 1, 2.1), byrow = T, ncol = 4) \n",
    "\n",
    "b_1 = matrix(c(1, 4, -2, 1), ncol = 1) \n",
    "\n",
    "b_2 <- b_1 \n",
    "\n",
    "b_3 <- b_2 \n"
   ]
  },
  {
   "attachments": {},
   "cell_type": "markdown",
   "id": "demonstrated-growing",
   "metadata": {},
   "source": [
    "## ***Question 3*** \n",
    "\n",
    "Write an R function to solve the following system of equations using the Gauss Seidel Method. \n",
    "Make sure it outputs a warning message if the system does not converge. "
   ]
  },
  {
   "cell_type": "code",
   "execution_count": null,
   "id": "public-trinidad",
   "metadata": {
    "ExecuteTime": {
     "end_time": "2021-02-11T03:33:14.390770Z",
     "start_time": "2021-02-11T03:33:14.303Z"
    }
   },
   "outputs": [],
   "source": [
    "\n",
    "## Function followed along from in class R vignette. \n",
    "myJacobi <- function(A,b,x0,tol=1e-8,maxN=200){\n",
    "    # Decompose A:\n",
    "    D <- diag(diag(A))\n",
    "    C <- A - D\n",
    "    n <- length(x0)\n",
    "    # Check for convergence:\n",
    "    B <- -solve(D)%*%(C)\n",
    "    rho <- max(abs(eigen(B)$values))\n",
    "    if (rho >= 1){\n",
    "        warning(\"May not converge!\")\n",
    "    }\n",
    "    # It's generally good practice to take the repeated calculations outside of\n",
    "    # the loop whenever possible\n",
    "    Dinvb <- solve(D,b)\n",
    "    DinvC <- -solve(D,C)\n",
    "    # Generate a data frame for output statistics:\n",
    "    outstats <- as.data.frame(matrix(rep(NA,(2+n)*maxN),nrow=maxN))\n",
    "    names(outstats)[c(1:2)] <- c(\"Iter\",\"Convergence\")\n",
    "    # The main loop:\n",
    "    for (i in 1:maxN) {\n",
    "        x <- DinvC %*% x0 + Dinvb\n",
    "        outstats[i,] <- matrix(c(i,norm(x - x0)/norm(x0),t(x)),nrow=1)\n",
    "        if (norm(x - x0) < tol*norm(x0)){\n",
    "        results <- list(\"x\"=x,\"outstats\"=outstats,\"rho\"=rho,\"iter\"=i)\n",
    "        return(results)\n",
    "        break\n",
    "        }\n",
    "        x0 <- x\n",
    "    }\n",
    "    results <- list(\"x\"=x,\"outstats\"=outstats,\"rho\"=rho,\"iter\"=i)\n",
    "    return(results)\n",
    "}\n",
    "\n"
   ]
  },
  {
   "cell_type": "code",
   "execution_count": null,
   "id": "considerable-moore",
   "metadata": {
    "ExecuteTime": {
     "end_time": "2021-02-11T03:49:22.478428Z",
     "start_time": "2021-02-11T03:49:22.386Z"
    }
   },
   "outputs": [],
   "source": [
    "a_1_jacobi <- myJacobi(A_1, b_1, x0 = matrix(c(0, 0, 0, 0)))\n",
    "a_2_jacobi <- myJacobi(A_2, b_2, x0 = matrix(c(0, 0, 0, 0)))\n",
    "a_3_jacobi <- myJacobi(A_3, b_3, x0 = matrix(c(0, 0, 0, 0)))\n",
    "\n",
    "a_1_jacobi$x\n",
    "a_2_jacobi$x\n",
    "a_3_jacobi$x\n",
    "\n",
    "\n"
   ]
  },
  {
   "attachments": {},
   "cell_type": "markdown",
   "id": "ready-uncle",
   "metadata": {},
   "source": [
    "## ***Question 4*** \n",
    "\n",
    "Write an R function to solve the above systems of equations using the Gauss-Seidel iterative method discussed in class.  The code should check to ensure the system will converge and if not, it should report an error message."
   ]
  },
  {
   "cell_type": "code",
   "execution_count": 6,
   "id": "minor-wallpaper",
   "metadata": {
    "ExecuteTime": {
     "end_time": "2021-02-11T03:52:15.495883Z",
     "start_time": "2021-02-11T03:52:15.432Z"
    }
   },
   "outputs": [
    {
     "name": "stderr",
     "output_type": "stream",
     "text": [
      "Warning message in myGauss(A_3, b_3, x0 = matrix(c(0, 0, 0, 0))):\n",
      "“May not converge!”"
     ]
    },
    {
     "data": {
      "text/html": [
       "<table>\n",
       "<tbody>\n",
       "\t<tr><td> 0.5555556</td></tr>\n",
       "\t<tr><td> 0.3240741</td></tr>\n",
       "\t<tr><td>-0.9907407</td></tr>\n",
       "\t<tr><td> 0.4166667</td></tr>\n",
       "</tbody>\n",
       "</table>\n"
      ],
      "text/latex": [
       "\\begin{tabular}{l}\n",
       "\t  0.5555556\\\\\n",
       "\t  0.3240741\\\\\n",
       "\t -0.9907407\\\\\n",
       "\t  0.4166667\\\\\n",
       "\\end{tabular}\n"
      ],
      "text/markdown": [
       "\n",
       "|  0.5555556 |\n",
       "|  0.3240741 |\n",
       "| -0.9907407 |\n",
       "|  0.4166667 |\n",
       "\n"
      ],
      "text/plain": [
       "     [,1]      \n",
       "[1,]  0.5555556\n",
       "[2,]  0.3240741\n",
       "[3,] -0.9907407\n",
       "[4,]  0.4166667"
      ]
     },
     "metadata": {},
     "output_type": "display_data"
    },
    {
     "data": {
      "text/html": [
       "<table>\n",
       "<tbody>\n",
       "\t<tr><td> 3.199561</td></tr>\n",
       "\t<tr><td>-2.709111</td></tr>\n",
       "\t<tr><td>-4.289791</td></tr>\n",
       "\t<tr><td> 3.809001</td></tr>\n",
       "</tbody>\n",
       "</table>\n"
      ],
      "text/latex": [
       "\\begin{tabular}{l}\n",
       "\t  3.199561\\\\\n",
       "\t -2.709111\\\\\n",
       "\t -4.289791\\\\\n",
       "\t  3.809001\\\\\n",
       "\\end{tabular}\n"
      ],
      "text/markdown": [
       "\n",
       "|  3.199561 |\n",
       "| -2.709111 |\n",
       "| -4.289791 |\n",
       "|  3.809001 |\n",
       "\n"
      ],
      "text/plain": [
       "     [,1]     \n",
       "[1,]  3.199561\n",
       "[2,] -2.709111\n",
       "[3,] -4.289791\n",
       "[4,]  3.809001"
      ]
     },
     "metadata": {},
     "output_type": "display_data"
    },
    {
     "data": {
      "text/html": [
       "<table>\n",
       "<tbody>\n",
       "\t<tr><td> 348.5764</td></tr>\n",
       "\t<tr><td>-379.8682</td></tr>\n",
       "\t<tr><td>-325.0257</td></tr>\n",
       "\t<tr><td> 336.1400</td></tr>\n",
       "</tbody>\n",
       "</table>\n"
      ],
      "text/latex": [
       "\\begin{tabular}{l}\n",
       "\t  348.5764\\\\\n",
       "\t -379.8682\\\\\n",
       "\t -325.0257\\\\\n",
       "\t  336.1400\\\\\n",
       "\\end{tabular}\n"
      ],
      "text/markdown": [
       "\n",
       "|  348.5764 |\n",
       "| -379.8682 |\n",
       "| -325.0257 |\n",
       "|  336.1400 |\n",
       "\n"
      ],
      "text/plain": [
       "     [,1]     \n",
       "[1,]  348.5764\n",
       "[2,] -379.8682\n",
       "[3,] -325.0257\n",
       "[4,]  336.1400"
      ]
     },
     "metadata": {},
     "output_type": "display_data"
    }
   ],
   "source": [
    "myGauss <- function(A,b,x0,tol=1e-8,maxN=200){\n",
    "# Decompose A:\n",
    "n <- length(x0)\n",
    "D <- lower.tri(A,diag=TRUE)*A\n",
    "C <- A - D\n",
    "# It's generally good practice to take the repeated calculations outside of\n",
    "# the loop whenever possible\n",
    "Dinvb <- solve(D,b)\n",
    "DinvC <- -solve(D,C)\n",
    "    \n",
    "# Check for convergence:\n",
    "B <- -solve(D)%*%(C)\n",
    "rho <- max(abs(eigen(B)$values))\n",
    "if (rho >= 1){\n",
    "    warning(\"May not converge!\")\n",
    "}\n",
    "    \n",
    "# Generate a data frame for output statistics:\n",
    "# The main loop:\n",
    "for (i in 1:maxN) {\n",
    "x1 <- DinvC %*% x0 + Dinvb\n",
    "if (norm(x1 - x0) < tol*norm(x0)){\n",
    "results <- list(\"x\"=x1,\"iter\"=i)\n",
    "return(results)\n",
    "break\n",
    "}\n",
    "x0 <- x1\n",
    "}\n",
    "results <- list(\"x\"=x0,\"iter\"=i)\n",
    "return(results) \n",
    "    }\n",
    "\n",
    "a_1_gauss <- myGauss(A_1, b_1, x0 = matrix(c(0, 0, 0, 0)))\n",
    "a_1_gauss$x \n",
    "\n",
    "a_2_gauss <- myGauss(A_2, b_2, x0 = matrix(c(0, 0, 0, 0)))\n",
    "a_2_gauss$x \n",
    "\n",
    "a_3_gauss <- myGauss(A_3, b_3, x0 = matrix(c(0, 0, 0, 0)))\n",
    "a_3_gauss$x \n",
    "\n",
    "\n",
    "\n",
    "\n",
    "\n",
    "\n",
    "\n"
   ]
  },
  {
   "cell_type": "code",
   "execution_count": null,
   "id": "later-while",
   "metadata": {},
   "outputs": [],
   "source": []
  }
 ],
 "metadata": {
  "hide_input": false,
  "kernelspec": {
   "display_name": "R",
   "language": "R",
   "name": "ir"
  },
  "language_info": {
   "codemirror_mode": "r",
   "file_extension": ".r",
   "mimetype": "text/x-r-source",
   "name": "R",
   "pygments_lexer": "r",
   "version": "3.6.1"
  },
  "latex_envs": {
   "LaTeX_envs_menu_present": true,
   "autoclose": false,
   "autocomplete": true,
   "bibliofile": "biblio.bib",
   "cite_by": "apalike",
   "current_citInitial": 1,
   "eqLabelWithNumbers": true,
   "eqNumInitial": 1,
   "hotkeys": {
    "equation": "Ctrl-E",
    "itemize": "Ctrl-I"
   },
   "labels_anchors": false,
   "latex_user_defs": false,
   "report_style_numbering": false,
   "user_envs_cfg": false
  },
  "toc": {
   "base_numbering": 1,
   "nav_menu": {},
   "number_sections": true,
   "sideBar": true,
   "skip_h1_title": true,
   "title_cell": "Table of Contents",
   "title_sidebar": "Contents",
   "toc_cell": true,
   "toc_position": {},
   "toc_section_display": true,
   "toc_window_display": true
  }
 },
 "nbformat": 4,
 "nbformat_minor": 5
}
