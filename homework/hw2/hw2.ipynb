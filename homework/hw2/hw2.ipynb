{
 "cells": [
  {
   "cell_type": "markdown",
   "id": "special-pointer",
   "metadata": {
    "toc": true
   },
   "source": [
    "<h1>Table of Contents<span class=\"tocSkip\"></span></h1>\n",
    "<div class=\"toc\"><ul class=\"toc-item\"><li><span><a href=\"#Question-1:\" data-toc-modified-id=\"Question-1:-1\"><span class=\"toc-item-num\">1&nbsp;&nbsp;</span><strong><em>Question 1:</em></strong></a></span></li></ul></div>"
   ]
  },
  {
   "cell_type": "code",
   "execution_count": 2,
   "id": "raised-blank",
   "metadata": {
    "ExecuteTime": {
     "end_time": "2021-02-01T20:52:10.353532Z",
     "start_time": "2021-02-01T20:52:10.332Z"
    }
   },
   "outputs": [],
   "source": [
    "### Install required packages \n",
    "\n",
    "library(tidyverse) \n",
    "library(reshape2) "
   ]
  },
  {
   "cell_type": "markdown",
   "id": "pending-consumption",
   "metadata": {},
   "source": [
    "## ***Question 1:*** \n",
    "\n",
    "Write a function to convert a decimal number to a binary number. \n",
    "****\n",
    "*Extend the code to handle fractional numbers* "
   ]
  },
  {
   "cell_type": "code",
   "execution_count": null,
   "id": "several-prayer",
   "metadata": {},
   "outputs": [],
   "source": []
  }
 ],
 "metadata": {
  "hide_input": false,
  "kernelspec": {
   "display_name": "R",
   "language": "R",
   "name": "ir"
  },
  "language_info": {
   "codemirror_mode": "r",
   "file_extension": ".r",
   "mimetype": "text/x-r-source",
   "name": "R",
   "pygments_lexer": "r",
   "version": "3.6.1"
  },
  "latex_envs": {
   "LaTeX_envs_menu_present": true,
   "autoclose": false,
   "autocomplete": true,
   "bibliofile": "biblio.bib",
   "cite_by": "apalike",
   "current_citInitial": 1,
   "eqLabelWithNumbers": true,
   "eqNumInitial": 1,
   "hotkeys": {
    "equation": "Ctrl-E",
    "itemize": "Ctrl-I"
   },
   "labels_anchors": false,
   "latex_user_defs": false,
   "report_style_numbering": false,
   "user_envs_cfg": false
  },
  "toc": {
   "base_numbering": 1,
   "nav_menu": {},
   "number_sections": true,
   "sideBar": true,
   "skip_h1_title": true,
   "title_cell": "Table of Contents",
   "title_sidebar": "Contents",
   "toc_cell": true,
   "toc_position": {},
   "toc_section_display": true,
   "toc_window_display": true
  }
 },
 "nbformat": 4,
 "nbformat_minor": 5
}
